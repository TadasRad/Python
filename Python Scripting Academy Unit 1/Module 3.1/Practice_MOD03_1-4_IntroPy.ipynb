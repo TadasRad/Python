{
 "cells": [
  {
   "cell_type": "markdown",
   "metadata": {},
   "source": [
    "# 1-4.3 Intro Python Practice\n",
    "## Conditionals \n",
    "<font size=\"5\" color=\"#00A0B2\"  face=\"verdana\"> <B>Student will be able to</B></font>  \n",
    "- **control code flow with `if`... `else` conditional logic**  \n",
    "  - using Boolean string methods (`.isupper(), .isalpha(), .startswith()...`)  \n",
    "  - using comparision (`>, <, >=, <=, ==, !=`)  \n",
    "  - using Strings in comparisons  "
   ]
  },
  {
   "cell_type": "markdown",
   "metadata": {},
   "source": [
    "## `if else`\n"
   ]
  },
  {
   "cell_type": "code",
   "execution_count": 5,
   "metadata": {},
   "outputs": [
    {
     "name": "stdout",
     "output_type": "stream",
     "text": [
      "Enter age (digits only):2\n",
      "It is good to be 2\n"
     ]
    }
   ],
   "source": [
    "# [ ] input avariable: age as digit and cast to int\n",
    "age = int(input(\"Enter age (digits only):\"))\n",
    "# if age greater than or equal to 12 then print message on age in 10 years \n",
    "if age>=12:\n",
    "    print(\"You will be\" , age+10 , \"in 10 years\")\n",
    "else:\n",
    "    print(\"It is good to be\" , age)\n",
    "# or else print message \"It is good to be\" age\n",
    "\n",
    "\n",
    "\n",
    "\n"
   ]
  },
  {
   "cell_type": "code",
   "execution_count": 11,
   "metadata": {},
   "outputs": [
    {
     "name": "stdout",
     "output_type": "stream",
     "text": [
      "Enter number: 1233\n",
      "Greater than 100 is True\n"
     ]
    }
   ],
   "source": [
    "# [ ] input a number \n",
    "number = input(\"Enter number: \")\n",
    "# if number IS a digit string then cast to int\n",
    "if number.isdigit():\n",
    "    number = int(number)\n",
    "    print(\"Greater than 100 is\", number>100)\n",
    "else:\n",
    "    print(\"only int is accepted\")\n",
    "# print number \"greater than 100 is\" True/False\n",
    "# if number is NOT a digit string then message the user that \"only int is accepted\"\n",
    "\n",
    "\n"
   ]
  },
  {
   "cell_type": "markdown",
   "metadata": {},
   "source": [
    "### Guessing a letter A-Z  \n",
    "**check_guess()** takes 2 string arguments: **letter and guess** (both expect single alphabetical character)   \n",
    "    - if guess is not an alpha character print invalid and return False\n",
    "    - test and print if guess is \"high\" or \"low\" and return False\n",
    "    - test and print if guess is \"correct\" and return True"
   ]
  },
  {
   "cell_type": "code",
   "execution_count": 13,
   "metadata": {},
   "outputs": [
    {
     "name": "stdout",
     "output_type": "stream",
     "text": [
      "Letter:t\n",
      "Guess:t\n"
     ]
    },
    {
     "data": {
      "text/plain": [
       "True"
      ]
     },
     "execution_count": 13,
     "metadata": {},
     "output_type": "execute_result"
    }
   ],
   "source": [
    "# [ ] create check_guess()\n",
    "def check_guess(letter, guess):\n",
    "    if guess.isalpha():\n",
    "        if guess == letter:\n",
    "            return True\n",
    "        else:\n",
    "            return False\n",
    "        \n",
    "    else:\n",
    "        print(\"Invalid\")\n",
    "        return False\n",
    "    \n",
    "# call with test\n",
    "\n",
    "check_guess(input(\"Letter:\"), input(\"Guess:\"))\n",
    "\n"
   ]
  },
  {
   "cell_type": "code",
   "execution_count": null,
   "metadata": {
    "collapsed": true
   },
   "outputs": [],
   "source": [
    "# [ ] call check_guess with user input\n",
    "def check_guess(letter, guess):\n",
    "    if guess.isalpha():\n",
    "        if guess == letter:\n",
    "            return True\n",
    "        else:\n",
    "            return False\n",
    "        \n",
    "    else:\n",
    "        print(\"Invalid\")\n",
    "        return False\n",
    "    \n",
    "# call with test\n",
    "\n",
    "check_guess(input(\"Letter:\"), input(\"Guess:\"))\n"
   ]
  },
  {
   "cell_type": "markdown",
   "metadata": {},
   "source": [
    "### Letter Guess\n",
    "**create letter_guess() function that gives user 3 guesses**\n",
    "- takes a letter character argument for the answer letter\n",
    "- gets user input for letter guess  \n",
    "- calls check_guess() with answer and guess\n",
    "- End letter_guess if \n",
    "    - check_guess() equals True, return True  \n",
    "    - or after 3 failed attempts, return False"
   ]
  },
  {
   "cell_type": "code",
   "execution_count": 17,
   "metadata": {},
   "outputs": [
    {
     "name": "stdout",
     "output_type": "stream",
     "text": [
      "enter letter to guess:r\n",
      "enter guess:t\n",
      "enter guess:y\n",
      "enter guess:u\n"
     ]
    }
   ],
   "source": [
    "# [ ] create letter_guess() function, call the function to test\n",
    "def letter_guess(answer,guess):\n",
    "    if answer== guess:\n",
    "        return True\n",
    "    else:\n",
    "        return False\n",
    "\n",
    "answer = input(\"enter letter to guess:\")\n",
    "\n",
    "guess = input (\"enter guess:\")\n",
    "if letter_guess(answer,guess):\n",
    "    print(\"Correct\")\n",
    "else:\n",
    "    guess = input (\"enter guess:\")\n",
    "    if letter_guess(answer,guess):\n",
    "        print(\"Correct\")\n",
    "    else:\n",
    "        guess = input (\"enter guess:\")\n",
    "        if letter_guess(answer,guess):\n",
    "            print(\"Correct\")\n",
    "        else:\n",
    "            pass\n",
    "        \n",
    "        \n",
    "    "
   ]
  },
  {
   "cell_type": "markdown",
   "metadata": {},
   "source": [
    "### Pet Conversation\n",
    "**ask the user for a sentence about a pet and then reply**  \n",
    "- get user input in variable: about_pet\n",
    "- using a series of **if** statements respond with appropriate conversation\n",
    "  - check if \"dog\" is in the string about_pet (sample reply \"Ah, a dog\")\n",
    "  - check if \"cat\" is in the string about_pet\n",
    "  - check if 1 or more animal is in string about_pet\n",
    "- no need for **else**'s\n",
    "- finish with thanking for the story"
   ]
  },
  {
   "cell_type": "code",
   "execution_count": 21,
   "metadata": {},
   "outputs": [
    {
     "name": "stdout",
     "output_type": "stream",
     "text": [
      "Enter pet information:iahsdijajindjknbird\n",
      "Ah, a chicken\n"
     ]
    }
   ],
   "source": [
    "# [ ] complete pet conversation\n",
    "about_pet= input(\"Enter pet information:\")\n",
    "\n",
    "if \"dog\" in about_pet.lower():\n",
    "    print(\"Ah, a dog\")\n",
    "if \"cat\" in about_pet.lower():\n",
    "    print (\"Ah, a pointless animal\")\n",
    "if \"bird\" in about_pet.lower():\n",
    "    print(\"Ah, a chicken\")\n"
   ]
  },
  {
   "cell_type": "markdown",
   "metadata": {
    "collapsed": true
   },
   "source": [
    "[Terms of use](http://go.microsoft.com/fwlink/?LinkID=206977) &nbsp; [Privacy & cookies](https://go.microsoft.com/fwlink/?LinkId=521839) &nbsp; © 2017 Microsoft"
   ]
  },
  {
   "cell_type": "code",
   "execution_count": null,
   "metadata": {},
   "outputs": [],
   "source": []
  }
 ],
 "metadata": {
  "anaconda-cloud": {},
  "kernelspec": {
   "display_name": "Python 3",
   "language": "python",
   "name": "python3"
  },
  "language_info": {
   "codemirror_mode": {
    "name": "ipython",
    "version": 3
   },
   "file_extension": ".py",
   "mimetype": "text/x-python",
   "name": "python",
   "nbconvert_exporter": "python",
   "pygments_lexer": "ipython3",
   "version": "3.7.1"
  }
 },
 "nbformat": 4,
 "nbformat_minor": 1
}
